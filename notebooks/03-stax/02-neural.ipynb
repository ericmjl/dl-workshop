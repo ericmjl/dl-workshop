{
 "cells": [
  {
   "cell_type": "code",
   "execution_count": null,
   "metadata": {},
   "outputs": [],
   "source": [
    "%load_ext autoreload\n",
    "%autoreload 2\n",
    "%matplotlib inline\n",
    "%config InlineBackend.figure_format = 'retina'"
   ]
  },
  {
   "cell_type": "markdown",
   "metadata": {},
   "source": [
    "# Writing neural network models using stax\n",
    "\n",
    "We're now going to try rewriting the neural network model that we had earlier on, now using `stax` syntax, and traing it using the syntax that we have learned above."
   ]
  },
  {
   "cell_type": "markdown",
   "metadata": {},
   "source": [
    "## Using `stax.serial`\n",
    "\n",
    "Firstly, let's replicate the model using `stax.serial`. It's a serial composition of a Dense+Tanh layer, followed by a Dense+Sigmoid layer."
   ]
  },
  {
   "cell_type": "code",
   "execution_count": null,
   "metadata": {},
   "outputs": [],
   "source": [
    "from jax.experimental import stax\n",
    "\n",
    "nn_init, nn_apply = stax.serial(\n",
    "    stax.Dense(20),\n",
    "    stax.Tanh,\n",
    "    stax.Dense(1),\n",
    "    stax.Sigmoid\n",
    ")\n",
    "\n",
    "\n",
    "def nn_init_wrapper(input_shape):\n",
    "    def inner(key):\n",
    "        return nn_init(key, input_shape)\n",
    "    return inner\n",
    "\n",
    "nn_initializer = nn_init_wrapper(input_shape=(-1, 41))\n",
    "nn_initializer"
   ]
  },
  {
   "cell_type": "markdown",
   "metadata": {},
   "source": [
    "Now, we initialize one instance of the parameters."
   ]
  },
  {
   "cell_type": "code",
   "execution_count": null,
   "metadata": {},
   "outputs": [],
   "source": [
    "from jax import random\n",
    "key = random.PRNGKey(42)\n",
    "output_shape, params_init = nn_initializer(key)"
   ]
  },
  {
   "cell_type": "markdown",
   "metadata": {},
   "source": [
    "We'll need a loss funciton to optimize as well."
   ]
  },
  {
   "cell_type": "code",
   "execution_count": null,
   "metadata": {},
   "outputs": [],
   "source": [
    "from jax import grad, numpy as np, vmap\n",
    "from functools import partial\n",
    "\n",
    "def binary_cross_entropy(y_true, y_pred, tol=1e-6):\n",
    "    return y_true * np.log(y_pred + tol) + (1 - y_true) * np.log(1 - y_pred + tol)\n",
    "\n",
    "def logistic_loss(params, model, x, y):\n",
    "    preds = vmap(partial(model, params))(x)\n",
    "    bces = vmap(binary_cross_entropy)(y, preds)\n",
    "    return -np.sum(bces)\n",
    "\n",
    "dlogistic_loss = grad(logistic_loss)"
   ]
  },
  {
   "cell_type": "markdown",
   "metadata": {},
   "source": [
    "### Load in data\n",
    "\n",
    "Now, we load in the data."
   ]
  },
  {
   "cell_type": "code",
   "execution_count": null,
   "metadata": {},
   "outputs": [],
   "source": [
    "import pandas as pd\n",
    "from pyprojroot import here\n",
    "\n",
    "X = pd.read_csv(here() / 'data/biodeg_X.csv', index_col=0)\n",
    "y = pd.read_csv(here() / 'data/biodeg_y.csv', index_col=0)"
   ]
  },
  {
   "cell_type": "markdown",
   "metadata": {},
   "source": [
    "### Test-drive functions to make sure they work\n",
    "\n",
    "Always important. It'll reveal whether there's anything wrong with our code."
   ]
  },
  {
   "cell_type": "code",
   "execution_count": null,
   "metadata": {},
   "outputs": [],
   "source": [
    "logistic_loss(params_init, nn_apply, X.values, y.values)\n"
   ]
  },
  {
   "cell_type": "markdown",
   "metadata": {},
   "source": [
    "### Progressively construct our training functions\n",
    "\n",
    "Firstly, we make sure the step function works with our logistic loss, model func, and actual data."
   ]
  },
  {
   "cell_type": "code",
   "execution_count": null,
   "metadata": {},
   "outputs": [],
   "source": [
    "from jax.experimental.optimizers import adam\n",
    "\n",
    "adam_init, update, get_params = adam(0.0005)"
   ]
  },
  {
   "cell_type": "code",
   "execution_count": null,
   "metadata": {},
   "outputs": [],
   "source": [
    "from dl_workshop.stax_models import step, make_scannable_step, make_training_start\n",
    "from time import time\n",
    "\n",
    "stepfunc_nn = partial(step, dlossfunc=dlogistic_loss, get_params=get_params, update=update, model=nn_apply, x=X.values, y_true=y.values)\n",
    "scannable_step = make_scannable_step(stepfunc_nn)\n",
    "train_nn = make_training_start(nn_initializer, adam_init, scannable_step, n_steps=3000)\n",
    "start = time()\n",
    "final_state, states_history = train_nn(key)\n",
    "end = time()\n",
    "print(end - start)"
   ]
  },
  {
   "cell_type": "markdown",
   "metadata": {},
   "source": [
    "Friends, if you remember where we started in the `tutorial.ipynb` notebook, the original neural network took approximately a minute to train on a GPU (and longer if on a CPU).\n",
    "\n",
    "Let's now start by ploting the loss over training iterations. We start first with a function that returns the loss from a given `state` object."
   ]
  },
  {
   "cell_type": "code",
   "execution_count": null,
   "metadata": {},
   "outputs": [],
   "source": [
    "import matplotlib.pyplot as plt\n",
    "def calculate_loss(state, get_params, model, lossfunc, x, y):\n",
    "    params = get_params(state)\n",
    "    return lossfunc(params, model, x, y)\n",
    "\n",
    "calculate_loss(final_state, get_params, nn_apply, logistic_loss, X.values, y.values)"
   ]
  },
  {
   "cell_type": "markdown",
   "metadata": {},
   "source": [
    "Now, we need to `vmap` it over all states in the states history, to get back the loss score."
   ]
  },
  {
   "cell_type": "code",
   "execution_count": null,
   "metadata": {},
   "outputs": [],
   "source": [
    "calc_loss_vmap = partial(\n",
    "    calculate_loss,\n",
    "    get_params=get_params,\n",
    "    model=nn_apply,\n",
    "    lossfunc=logistic_loss,\n",
    "    x=X.values,\n",
    "    y=y.values\n",
    ")\n",
    "start = time()\n",
    "losses = vmap(calc_loss_vmap)(states_history)\n",
    "end = time()\n",
    "print(end - start)\n",
    "\n",
    "plt.plot(losses)"
   ]
  },
  {
   "cell_type": "markdown",
   "metadata": {},
   "source": [
    "### Training with multiple starting points\n",
    "\n",
    "Just as above, we can also train the neural network with multiple starting points, again by `vmap`-ing our training function across split PRNGKeys."
   ]
  },
  {
   "cell_type": "code",
   "execution_count": null,
   "metadata": {},
   "outputs": [],
   "source": [
    "keys = random.split(key, 5)\n",
    "\n",
    "start = time()\n",
    "final_states, state_histories = vmap(train_nn)(keys)\n",
    "end = time()\n",
    "print(end - start)"
   ]
  },
  {
   "cell_type": "code",
   "execution_count": null,
   "metadata": {},
   "outputs": [],
   "source": [
    "get_params(final_states)[0][0].shape"
   ]
  },
  {
   "cell_type": "markdown",
   "metadata": {},
   "source": [
    "Let's plot the losses over each of the state histories. Our last function `calc_loss_vmap` calculates loss score for one time point, which we then `vmap` over a single `states_history`, so we need another function that encapsulates this behaviour and `vmap`s over all state histories."
   ]
  },
  {
   "cell_type": "code",
   "execution_count": null,
   "metadata": {},
   "outputs": [],
   "source": [
    "def state_history_loss(state_history):\n",
    "    losses = vmap(calc_loss_vmap)(state_history)\n",
    "    return losses\n",
    "\n",
    "losses = vmap(state_history_loss)(state_histories)\n",
    "losses.shape"
   ]
  },
  {
   "cell_type": "code",
   "execution_count": null,
   "metadata": {},
   "outputs": [],
   "source": [
    "losses"
   ]
  },
  {
   "cell_type": "markdown",
   "metadata": {},
   "source": [
    "Correctly-shaped! And now plotting it..."
   ]
  },
  {
   "cell_type": "code",
   "execution_count": null,
   "metadata": {},
   "outputs": [],
   "source": [
    "plt.plot(losses.T)"
   ]
  },
  {
   "cell_type": "markdown",
   "metadata": {},
   "source": [
    "Now that's pretty cool! We were able to see the loss from three independent runs. \n",
    "\n",
    "With sufficient memory, one would be able to do more runs; when I was writing this notebook early on, I saw that it was getting difficult to do on the order of tens of runs due to memory allocation issues."
   ]
  },
  {
   "cell_type": "markdown",
   "metadata": {},
   "source": [
    "## Summary\n",
    "\n",
    "In this notebook, we saw a few things in action.\n",
    "\n",
    "Firstly, we saw how to use the `stax` module on a linear model. Anytime we have a new framework for doing differential programming, it's super important to be able to explore it in the context of a linear model, which is _basically_ the foundation of all deep learning.\n",
    "\n",
    "Secondly, we also explored how to leverage the JAX idioms to create fast parallelized training loops. We mixed-and-matched together `jit`, `vmap`, `lax.scan`, and `grad` into a performant training loop that was minimally nested.\n",
    "\n",
    "A corollary of this programming style is that _every piece of the code can, in principle, be properly tested_, because they are properly isolated. Have you written training loops where you modify a little piece here and a little piece there, until you lost what your original working one looked like? With training functions that are minimally nested, we can control the behaviour explicitly using closures/partials easily. Even when doing experimenation, our code can run reliably and fast.\n",
    "\n",
    "Thirdly, we saw how to apply the same lessons to training a neural network _really fast_ with multiple starting points. The essence of the solution was to properly structure our program in progressively higher level layers of abstraction. We carefully wrote the program to go from the inner most layer out until we hit our goal of allowing for a set of multiple starts. The key here is that each level of abstraction is very natural, and corresponds to a \"unit computation\" being applied consistently across an \"array\" of things. Once we identify that \"unit computation\", writing the `vmap`-able or `lax.scan`-able function becomes very easy."
   ]
  }
 ],
 "metadata": {
  "kernelspec": {
   "display_name": "dl-workshop",
   "language": "python",
   "name": "dl-workshop"
  },
  "language_info": {
   "codemirror_mode": {
    "name": "ipython",
    "version": 3
   },
   "file_extension": ".py",
   "mimetype": "text/x-python",
   "name": "python",
   "nbconvert_exporter": "python",
   "pygments_lexer": "ipython3",
   "version": "3.7.9"
  }
 },
 "nbformat": 4,
 "nbformat_minor": 4
}
