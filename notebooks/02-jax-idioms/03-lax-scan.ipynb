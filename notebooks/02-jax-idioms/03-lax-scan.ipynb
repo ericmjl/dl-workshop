{
 "cells": [
  {
   "cell_type": "code",
   "execution_count": null,
   "metadata": {},
   "outputs": [],
   "source": [
    "%load_ext autoreload\n",
    "%autoreload 2\n",
    "%matplotlib inline\n",
    "%config InlineBackend.figure_format = 'retina'"
   ]
  },
  {
   "cell_type": "markdown",
   "metadata": {},
   "source": [
    "# Eliminating for-loops that have carry-over using `lax.scan`\n",
    "\n",
    "We are now going to see how we can eliminate for-loops that have carry-over using `lax.scan`.\n",
    "\n",
    "From the JAX docs, `lax.scan` replaces a for-loop with carry-over:\n",
    "\n",
    "> Scan a function over leading array axes while carrying along state.\n",
    "> \n",
    "> ...\n",
    "> \n",
    "> ```python\n",
    "> def scan(f, init, xs, length=None):\n",
    "    if xs is None:\n",
    "         xs = [None] * length\n",
    "    carry = init\n",
    "    ys = []\n",
    "    for x in xs:\n",
    "        carry, y = f(carry, x)\n",
    "        ys.append(y)\n",
    "    return carry, np.stack(ys)\n",
    "> ```\n",
    "\n",
    "A key requirement of the function `f` is that it must have only two positional arguments in there, one for `carry` and one for `x`. You'll see how we can thus apply `functools.partial` to construct functions that have this signature from other functions that have other \n",
    "\n",
    "Let's see some concrete examples of this in action."
   ]
  },
  {
   "cell_type": "markdown",
   "metadata": {},
   "source": [
    "## Updating a variable with new info on each loop iteration\n",
    "\n",
    "One classic case where we might use a for-loop is in the cumulative sum or product. Here, we need the current loop information to update the information from the previous loop. Let's see it in action for the cumulative sum:"
   ]
  },
  {
   "cell_type": "code",
   "execution_count": null,
   "metadata": {},
   "outputs": [],
   "source": [
    "import jax.numpy as np\n",
    "a = np.array([1, 2, 3, 5, 7, 11, 13, 17])\n",
    "\n",
    "result = []\n",
    "res = 0\n",
    "for el in a:\n",
    "    res += el\n",
    "    result.append(res)\n",
    "np.array(result)"
   ]
  },
  {
   "cell_type": "markdown",
   "metadata": {},
   "source": [
    "This is identical to the cumulative sum:"
   ]
  },
  {
   "cell_type": "code",
   "execution_count": null,
   "metadata": {},
   "outputs": [],
   "source": [
    "np.cumsum(a)"
   ]
  },
  {
   "cell_type": "markdown",
   "metadata": {},
   "source": [
    "Now, let's write it using `lax.scan`, so we can see the pattern in action:"
   ]
  },
  {
   "cell_type": "code",
   "execution_count": null,
   "metadata": {},
   "outputs": [],
   "source": [
    "from jax import lax\n",
    "def scanfunc(res, el):\n",
    "    res = res + el\n",
    "    return res, res  # (\"carryover\", \"accumulated\")\n",
    "\n",
    "result_init = 0\n",
    "final, result = lax.scan(scanfunc, result_init, a)\n",
    "result"
   ]
  },
  {
   "cell_type": "markdown",
   "metadata": {},
   "source": [
    "As you can see, scanned function has to return two things:\n",
    "\n",
    "- One object that gets carried over to the next loop (`carryover`), and\n",
    "- Another object that gets \"accumulated\" into an array (`accumulated`).\n",
    "\n",
    "The starting initial value, `result_init`, is passed into the `scanfunc` as `res` on the first call of the `scanfunc`. On subsequent calls, the first `res` is passed back into the `scanfunc` as the new `res`."
   ]
  },
  {
   "cell_type": "markdown",
   "metadata": {},
   "source": [
    "## Example 1: Simulating compound interest\n",
    "\n",
    "We can use `lax.scan` to generate data that simulates the generation of wealth by compound interest. Here's an implementation using a plain vanilla for-loop:"
   ]
  },
  {
   "cell_type": "code",
   "execution_count": null,
   "metadata": {},
   "outputs": [],
   "source": [
    "wealth_record = []\n",
    "starting_wealth = 100.\n",
    "interest_factor = 1.01\n",
    "\n",
    "prev_wealth = starting_wealth\n",
    "for t in range(100):\n",
    "    new_wealth = prev_wealth * interest_factor\n",
    "    wealth_record.append(prev_wealth)\n",
    "    prev_wealth = new_wealth\n",
    "\n",
    "np.array(wealth_record)"
   ]
  },
  {
   "cell_type": "markdown",
   "metadata": {},
   "source": [
    "Now, we'll try implementing it in a `lax.scan` form:"
   ]
  },
  {
   "cell_type": "code",
   "execution_count": null,
   "metadata": {},
   "outputs": [],
   "source": [
    "from functools import partial\n",
    "\n",
    "starting_wealth = 100.\n",
    "interest_factor = 1.01\n",
    "\n",
    "timesteps = np.arange(100)\n",
    "\n",
    "def make_wealth_at_time_func(interest_factor):\n",
    "    def wealth_at_time(prev_wealth, time):\n",
    "        new_wealth = prev_wealth * interest_factor\n",
    "        return new_wealth, prev_wealth\n",
    "    return wealth_at_time\n",
    "\n",
    "wealth_func = make_wealth_at_time_func(interest_factor)\n",
    "\n",
    "final, result = lax.scan(wealth_func, init=starting_wealth, xs=timesteps)\n",
    "result"
   ]
  },
  {
   "cell_type": "markdown",
   "metadata": {},
   "source": [
    "The two are equivalent, so we know we have the `lax.scan` implementation right."
   ]
  },
  {
   "cell_type": "code",
   "execution_count": null,
   "metadata": {},
   "outputs": [],
   "source": [
    "import matplotlib.pyplot as plt\n",
    "plt.plot(wealth_record, label=\"for-loop\")\n",
    "plt.plot(result, label=\"lax.scan\")\n",
    "plt.legend();"
   ]
  },
  {
   "cell_type": "markdown",
   "metadata": {},
   "source": [
    "## Example 2: Compose `vmap` and `lax.scan` together\n",
    "\n",
    "That was one simulation of wealth generation by compound interest for one individual. Now, let's simulate the wealth generation for different starting wealth levels (you may choose any 300 starting points however you'd like). To do so, you'll likely want to start with a function that accepts a scalar starting wealth and generates the simulated time series from there, and then `vmap` that function across multiple starting points (which is an array itself)."
   ]
  },
  {
   "cell_type": "code",
   "execution_count": null,
   "metadata": {},
   "outputs": [],
   "source": [
    "from jax import vmap\n",
    "def make_simulation_func(timesteps):\n",
    "    def inner(starting_wealth):\n",
    "        final, result = lax.scan(wealth_func, init=starting_wealth, xs=timesteps)\n",
    "        return final, result\n",
    "    return inner\n",
    "\n",
    "simulation_func = make_simulation_func(timesteps=np.arange(200))\n",
    "starting_wealth = np.arange(300).astype(float)\n",
    "\n",
    "final, growth = vmap(simulation_func)(starting_wealth)\n",
    "growth"
   ]
  },
  {
   "cell_type": "code",
   "execution_count": null,
   "metadata": {},
   "outputs": [],
   "source": [
    "plt.plot(growth[1])\n",
    "plt.plot(growth[2])\n",
    "plt.plot(growth[3]);"
   ]
  }
 ],
 "metadata": {
  "kernelspec": {
   "display_name": "dl-workshop",
   "language": "python",
   "name": "dl-workshop"
  },
  "language_info": {
   "codemirror_mode": {
    "name": "ipython",
    "version": 3
   },
   "file_extension": ".py",
   "mimetype": "text/x-python",
   "name": "python",
   "nbconvert_exporter": "python",
   "pygments_lexer": "ipython3",
   "version": "3.7.9"
  }
 },
 "nbformat": 4,
 "nbformat_minor": 4
}
