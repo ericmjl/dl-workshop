{
 "cells": [
  {
   "cell_type": "code",
   "execution_count": null,
   "metadata": {},
   "outputs": [],
   "source": [
    "%load_ext autoreload\n",
    "%autoreload 2\n",
    "%matplotlib inline\n",
    "%config InlineBackend.figure_format = 'retina'"
   ]
  },
  {
   "cell_type": "markdown",
   "metadata": {},
   "source": [
    "# Closures and Partials\n",
    "\n",
    "We're going to take a quick detour and look at this idea of \"partially evaluating a function\". This is going to be important, as it'll allow us to construct functions that are compatible with the requirements of `vmap` and `lax.scan` and others in JAX, i.e. they have the correct function signature, but still allow us the flexibility to put in arbitrary things that might be needed for the function to work correctly.\n",
    "\n",
    "There are two ways to do this: you can either use `functools.partial`, or you can use function closures. Let's see how to do this."
   ]
  },
  {
   "cell_type": "markdown",
   "metadata": {},
   "source": [
    "## Partially evaluating a function using `functools.partial`\n",
    "\n",
    "For simplicity's sake, let's explore the idea using a function that adds two numbers:"
   ]
  },
  {
   "cell_type": "code",
   "execution_count": null,
   "metadata": {},
   "outputs": [],
   "source": [
    "def add(a, b):\n",
    "    return a + b"
   ]
  },
  {
   "cell_type": "markdown",
   "metadata": {},
   "source": [
    "Now, let's say we wanted to fix `b` to the value `3`, thus generating an `add_three` function. We can do this two ways. The first is by `functools.partial`:"
   ]
  },
  {
   "cell_type": "code",
   "execution_count": null,
   "metadata": {},
   "outputs": [],
   "source": [
    "from functools import partial\n",
    "\n",
    "add_three = partial(add, b=3)"
   ]
  },
  {
   "cell_type": "markdown",
   "metadata": {},
   "source": [
    "We can now call `add_three` on any value of `a`:"
   ]
  },
  {
   "cell_type": "code",
   "execution_count": null,
   "metadata": {},
   "outputs": [],
   "source": [
    "add_three(20)"
   ]
  },
  {
   "cell_type": "markdown",
   "metadata": {},
   "source": [
    "If we inspect the function `add_three`:"
   ]
  },
  {
   "cell_type": "code",
   "execution_count": null,
   "metadata": {},
   "outputs": [],
   "source": [
    "add_three?"
   ]
  },
  {
   "cell_type": "markdown",
   "metadata": {},
   "source": [
    "We see that `add_three` accepts one _positional_ argument, `a`, and its value of `b` has been set to a default of `3`.\n",
    "\n",
    "What if we wanted to fix `a` to `3` instead?"
   ]
  },
  {
   "cell_type": "code",
   "execution_count": null,
   "metadata": {},
   "outputs": [],
   "source": [
    "add_three_v2 = partial(add, a=3)\n",
    "add_three_v2?"
   ]
  },
  {
   "cell_type": "markdown",
   "metadata": {},
   "source": [
    "Notice how now the function signature has changed, such that `b` is not set while `a` has been. This has implications for how we use the function.\n",
    "\n",
    "Calling the function this way will error out:\n",
    "\n",
    "```python\n",
    ">>> add_three_v2(3)\n",
    "---------------------------------------------------------------------------\n",
    "TypeError                                 Traceback (most recent call last)\n",
    "<ipython-input-109-e78f540eb25e> in <module>\n",
    "----> 1 add_three_v2(3)\n",
    "\n",
    "TypeError: add() got multiple values for argument 'a'\n",
    "```\n",
    "\n",
    "That is because when we pass in the argument with no keyword specified, it is interpreted as the first positional argument, which as you can see, has already been set.\n",
    "\n",
    "On the other hand, calling the function this way will not:"
   ]
  },
  {
   "cell_type": "code",
   "execution_count": null,
   "metadata": {},
   "outputs": [],
   "source": [
    "add_three_v2(b=3)"
   ]
  },
  {
   "cell_type": "markdown",
   "metadata": {},
   "source": [
    "## Creating closures\n",
    "\n",
    "Another pattern that we can use is to use closures. Closures are functions that return a closed function that contains information from the closing function. Confused? Let me illustrate:"
   ]
  },
  {
   "cell_type": "code",
   "execution_count": null,
   "metadata": {},
   "outputs": [],
   "source": [
    "def closing_function(a):\n",
    "    def closed_function(b):\n",
    "        return a + b\n",
    "    return closed_function"
   ]
  },
  {
   "cell_type": "markdown",
   "metadata": {},
   "source": [
    "Using this pattern, we can rewrite `add_three` using closures:"
   ]
  },
  {
   "cell_type": "code",
   "execution_count": null,
   "metadata": {},
   "outputs": [],
   "source": [
    "def make_add_something(value):\n",
    "    def closed_function(b):\n",
    "        return b + value\n",
    "    return closed_function\n",
    "\n",
    "add_three_v3 = make_add_something(3)\n",
    "add_three_v3(5)"
   ]
  },
  {
   "cell_type": "code",
   "execution_count": null,
   "metadata": {},
   "outputs": [],
   "source": [
    "add_three_v3?"
   ]
  },
  {
   "cell_type": "markdown",
   "metadata": {},
   "source": [
    "Now, you'll notice that the signature of `add_three_v3` follows that exactly of the closed function. \n",
    "\n",
    "When writing array programs using JAX, this is the key design pattern you'll want to implement: Always return a function that has the function signature that you need.\n",
    "\n",
    "Naming things is the hardest activity in programming, because we are giving categorical names to things, and sometimes their category of thing isn't always clear. Fret not: the pattern I'll give you is the following:\n",
    "\n",
    "```python\n",
    "def SOME_FUNCTION_generator(argument1, argument2, keyword_arugment1=default_value1):\n",
    "    \"\"\"To simplify things, just give the name of the closing function <some_function>_generator.\"\"\"\n",
    "    def inner(arg1, arg2, kwarg1=default_value1):\n",
    "        \"\"\"This function should follow the API that is neeed.\"\"\"\n",
    "        return something\n",
    "    return inner\n",
    "```\n"
   ]
  }
 ],
 "metadata": {
  "kernelspec": {
   "display_name": "dl-workshop",
   "language": "python",
   "name": "dl-workshop"
  },
  "language_info": {
   "codemirror_mode": {
    "name": "ipython",
    "version": 3
   },
   "file_extension": ".py",
   "mimetype": "text/x-python",
   "name": "python",
   "nbconvert_exporter": "python",
   "pygments_lexer": "ipython3",
   "version": "3.7.9"
  }
 },
 "nbformat": 4,
 "nbformat_minor": 4
}
