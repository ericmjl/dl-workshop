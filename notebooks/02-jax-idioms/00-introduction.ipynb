{
 "cells": [
  {
   "cell_type": "code",
   "execution_count": null,
   "metadata": {
    "tags": []
   },
   "outputs": [],
   "source": [
    "from IPython.display import YouTubeVideo, display\n",
    "\n",
    "YouTubeVideo(\"hzJJAmX27Wg\")"
   ]
  },
  {
   "cell_type": "markdown",
   "metadata": {},
   "source": [
    "# Introduction\n",
    "\n",
    "In this chapter, we'll introduce you to some idiomatic JAX tools that will help you write performant numerical array programs.\n",
    "The main takeaways you should get from this series of notebooks are how you can:\n",
    "\n",
    "1. Replace slow Python for loop constructs with fast, just-in-time compiled JAX loop constructs,\n",
    "2. Create deterministic random numbers (and yes, this is not an oxymoron!) for reproducibility,\n",
    "3. Freely mix-and-match through this idea of _composable transforms_.\n",
    "\n",
    "Because contrasts to what we might be used to doing are an effective way to teach and learn, \n",
    "in each section, \n",
    "we'll be explicit about what exactly we're replacing when we write these numerical array programs. \n",
    "In doing so, \n",
    "my hope is that you'll see very clearly that structuring your array programs \n",
    "in a composable and atomic fashion \n",
    "will help you take advantage of JAX's composable function transforms \n",
    "to write really fast and compiled functions. \n",
    "And for good measure, we'll contrast this against pure Python programs, \n",
    "so you can witness for yourself how powerful JAX's ideas are... \n",
    "and appreciate how much effort has gone into making the whole thing NumPy compatible!"
   ]
  },
  {
   "cell_type": "markdown",
   "metadata": {},
   "source": [
    "## Prerequisites\n",
    "\n",
    "To get the most out of this notebook, you need only be familiar with the NumPy API, and writing functions. Having an appreciation of `functools.partial`, will help a bit, because we use it a lot in writing JAX programs. However, I know that not everybody has had prior experience with `partial`-ed functions, so we will introduce the idea mid-way, in a _just-in-time_ fashion as well.\n",
    "\n",
    "If you've gone through `tutorial.ipynb`, which is the main tutorial notebook for this repository, then you'll have some appreciation of JAX's composable transforms. You'll also see how we wrote some loops in there, and hopefully have an appreciation of how much faster things will run when we use JAX's looping constructs instead.\n",
    "\n"
   ]
  }
 ],
 "metadata": {
  "kernelspec": {
   "display_name": "dl-workshop",
   "language": "python",
   "name": "dl-workshop"
  },
  "language_info": {
   "codemirror_mode": {
    "name": "ipython",
    "version": 3
   },
   "file_extension": ".py",
   "mimetype": "text/x-python",
   "name": "python",
   "nbconvert_exporter": "python",
   "pygments_lexer": "ipython3",
   "version": "3.9.2"
  }
 },
 "nbformat": 4,
 "nbformat_minor": 4
}
