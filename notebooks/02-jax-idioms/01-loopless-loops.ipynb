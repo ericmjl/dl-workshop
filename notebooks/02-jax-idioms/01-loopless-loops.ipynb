{
 "cells": [
  {
   "cell_type": "code",
   "execution_count": null,
   "metadata": {},
   "outputs": [],
   "source": [
    "%load_ext autoreload\n",
    "%autoreload 2\n",
    "%matplotlib inline\n",
    "%config InlineBackend.figure_format = 'retina'"
   ]
  },
  {
   "cell_type": "code",
   "execution_count": null,
   "metadata": {},
   "outputs": [],
   "source": [
    "from IPython.display import YouTubeVideo, display\n",
    "\n",
    "YouTubeVideo(\"2_-zf4t0lhU\")"
   ]
  },
  {
   "cell_type": "markdown",
   "metadata": {},
   "source": [
    "# Replace simple for-loops with `vmap`\n",
    "\n",
    "The first JAX thing we will look at is the `vmap` function.\n",
    "What does `vmap` do?\n",
    "From the [JAX docs on `vmap`][docs]\n",
    "\n",
    "[docs]: https://jax.readthedocs.io/en/latest/jax.html#jax.vmap\n",
    "\n",
    "> Vectorizing map. Creates a function which maps fun over argument axes.\n",
    "\n",
    "Basically the idea here is to take a function\n",
    "and apply it to every \"element\" along a particular array axis.\n",
    "The key skill to learn to use `vmap` is to be able to\n",
    "decompose a computation into its repeatable element.\n",
    "Let's take a look at a few examples to make this clear."
   ]
  },
  {
   "cell_type": "markdown",
   "metadata": {},
   "source": [
    "## Example: Squaring every element in an array\n",
    "\n",
    "This is the first example that we will walk through, \n",
    "which involves applying a function over every element in a vector.\n",
    "By default, `vmap` takes in a function `f`\n",
    "and returns a function `f_prime`\n",
    "that maps `f` over the _leading_ axis of an array.\n",
    "The axis along which the array is mapped is configurable,\n",
    "and we'll see that in a moment.\n",
    "For now, let's explore what the default behaviour of `vmap` is.\n",
    "\n",
    "In the example below, we start with a function `square`\n",
    "that takes in scalars and returns scalars.\n",
    "(Whether they are float or integers doesn't really matter,\n",
    "but floats are the generalization of integers,\n",
    "so we'll work with that.)\n",
    "If we are being stringent about types,\n",
    "we won't allow ourselves to pass in an array into the square function,\n",
    "even though NumPy technically allows us to do so.\n",
    "`vmap` gives us the following equivalent function:\n",
    "\n",
    "\n",
    "```python\n",
    "def func(x):\n",
    "    ...\n",
    "    return result\n",
    "\n",
    "\n",
    "def vmapped_func(array):\n",
    "    result = []\n",
    "    for element in array:\n",
    "        result.append(func(x))\n",
    "    result = np.stack(result)\n",
    "    return result\n",
    "```\n",
    "\n",
    "Hence, we can apply a function across the leading (first) axis of an array.\n",
    "In the case of a vector, there is only one axis,\n",
    "so we simply apply the function to all elements on the array."
   ]
  },
  {
   "cell_type": "code",
   "execution_count": null,
   "metadata": {},
   "outputs": [],
   "source": [
    "import jax.numpy as np\n",
    "a = np.arange(20)   # (20,)\n",
    "\n",
    "def square(x: float) -> float:\n",
    "    return x ** 2\n",
    "\n",
    "from jax import vmap\n",
    "mapped_sq = vmap(square)  # this is a function!\n",
    "mapped_sq(a)\n"
   ]
  },
  {
   "cell_type": "markdown",
   "metadata": {},
   "source": [
    "### `vmap` returns a function\n",
    "\n",
    "There is one very important thing to remember here!\n",
    "`vmap` takes in a function and returns another function.\n",
    "(`mapped_sq` in the example above.)\n",
    "We still have to pass an array into the returned function,\n",
    "otherwise we won't get a result."
   ]
  },
  {
   "cell_type": "markdown",
   "metadata": {},
   "source": [
    "## Example: Summing every row or column of a 2D matrix\n",
    "\n",
    "In this next example, we will see how to apply a reduction function (e.g. summation) across every row or column in a matrix. This example will allow us to see how to configure the `in_axes` argument of `vmap`."
   ]
  },
  {
   "cell_type": "code",
   "execution_count": null,
   "metadata": {},
   "outputs": [],
   "source": [
    "def sum_vector(x: np.ndarray) -> np.ndarray:\n",
    "    \"\"\"Assumes `x` is a vector\"\"\"\n",
    "    return np.sum(x)\n",
    "\n",
    "a = np.arange(20).reshape((4, 5))\n",
    "a"
   ]
  },
  {
   "cell_type": "code",
   "execution_count": null,
   "metadata": {},
   "outputs": [],
   "source": [
    "# Apply `sum_vector` across each element along the 0th axis.\n",
    "vmap(sum_vector)(a)          # shape: (4,)"
   ]
  },
  {
   "cell_type": "code",
   "execution_count": null,
   "metadata": {},
   "outputs": [],
   "source": [
    "# Apply `sum_vector` across each element along the 1st axis.\n",
    "vmap(sum_vector, in_axes=1)(a)  # shape: (5,)"
   ]
  },
  {
   "cell_type": "markdown",
   "metadata": {},
   "source": [
    "Those of you who are experienced with NumPy are probably thinking,\n",
    "\"Couldn't we just specify the `axis` argument of `np.sum`, such as `np.sum(axis=1)`?\"\n",
    "Yes, but there's more:\n",
    "\n",
    "1. Using `vmap` nudges us to think about the elementary and repeatable computation that is used.\n",
    "2. We practice this skill by thinking about it on a trivial example.\n",
    "\n",
    "Moreover, if we think carefully about the semantic meaning of our array data structures,\n",
    "we can avoid magic axis numbers showing up in our code.\n",
    "(An example of this is consistently keeping the time axis on the leading axis.)\n",
    "And as we all know, the fewer magic numbers there are inside code,\n",
    "the easier it is for us to read it."
   ]
  },
  {
   "cell_type": "markdown",
   "metadata": {},
   "source": [
    "## Example: Softmax function\n",
    "\n",
    "Here is another example involving the softmax function. \n",
    "(We have provided for you the softmax function.)\n",
    "This sort of operation is usually done when we want to take every row in a matrix,\n",
    "which might have negative numbers,\n",
    "and convert them into a stack of probability vectors.\n",
    "(To learn more about the softmax function, check out the [Wikipedia article](https://en.wikipedia.org/wiki/Softmax_function).)"
   ]
  },
  {
   "cell_type": "code",
   "execution_count": null,
   "metadata": {},
   "outputs": [],
   "source": [
    "def softmax(x: np.ndarray) -> np.ndarray:\n",
    "    \"\"\"Vector-wise softmax transform.\"\"\"\n",
    "    return np.exp(x) / np.sum(np.exp(x))"
   ]
  },
  {
   "cell_type": "code",
   "execution_count": null,
   "metadata": {},
   "outputs": [],
   "source": [
    "a = np.arange(20).reshape((4, 5))\n",
    "a"
   ]
  },
  {
   "cell_type": "code",
   "execution_count": null,
   "metadata": {},
   "outputs": [],
   "source": [
    "vmap(softmax)(a)"
   ]
  },
  {
   "cell_type": "markdown",
   "metadata": {},
   "source": [
    "## Example: Solving for angle of a triangle\n",
    "\n",
    "When solving for an angle inside a right triangle, we need to know two of its lengths.\n",
    "Say we know the opposite and adjacent side lengths for a single triangle.\n",
    "We can then solve for the corresponding angle by taking `np.arctan(opp/adj)`."
   ]
  },
  {
   "cell_type": "code",
   "execution_count": null,
   "metadata": {},
   "outputs": [],
   "source": [
    "def angle(opp: float, adj: float):\n",
    "    return np.arctan(opp / adj)\n",
    "\n",
    "angle(5, 3)"
   ]
  },
  {
   "cell_type": "markdown",
   "metadata": {},
   "source": [
    "Imagine we had two vectors, one for `opp`s and the other for `adj`s. `vmap` can automatically transform the `angle` function into one that operates on vector pairs of `opp` and `adj` (assuming they both have the same length)."
   ]
  },
  {
   "cell_type": "code",
   "execution_count": null,
   "metadata": {},
   "outputs": [],
   "source": [
    "opps = np.arange(20)\n",
    "adjs = np.linspace(3, 30, 20)\n",
    "\n",
    "vmap(angle)(opps, adjs)"
   ]
  },
  {
   "cell_type": "markdown",
   "metadata": {},
   "source": [
    "## Exercises\n",
    "\n",
    "Let's go to some exercises to flex your newly-found `vmap` muscles!\n",
    "Everything you need to know you have picked up above;\n",
    "all that's left is getting practice creatively combining them together.\n",
    "Use the puzzles below, which are ordered in increasing complexity,\n",
    "to challenge your skillsets!"
   ]
  },
  {
   "cell_type": "markdown",
   "metadata": {},
   "source": [
    "### Exercise: `vmap`-ed dot products\n",
    "\n",
    "Message passing is a fundamental operation in the network analysis and graph neural network worlds.\n",
    "It is defined by taking a square adjacency-like matrix (also known as the diffusion matrix) of a graph\n",
    "and matrix multiplying it against a node feature matrix (also known as the message matrix).\n",
    "In NumPy code:"
   ]
  },
  {
   "cell_type": "code",
   "execution_count": null,
   "metadata": {},
   "outputs": [],
   "source": [
    "def mp(a: np.ndarray, f: np.ndarray) -> np.ndarray:\n",
    "    \"\"\"Message passing operator.\n",
    "    \n",
    "    - `a`: An adjacency-like matrix of size (num_nodes, num_nodes).\n",
    "    - `f`: A message matrix of size (num_nodes, num_feats).\n",
    "    \"\"\"\n",
    "    \n",
    "    return np.dot(a, f)"
   ]
  },
  {
   "cell_type": "markdown",
   "metadata": {},
   "source": [
    "Suppose we have 13 graphs, each of size 7 nodes such that each node has a message vector of length 11.\n",
    "We'd like to perform a message passing operation on each of those graphs.\n",
    "Your task is to implement this using `vmap`."
   ]
  },
  {
   "cell_type": "code",
   "execution_count": null,
   "metadata": {},
   "outputs": [],
   "source": [
    "from jax import random\n",
    "\n",
    "num_nodes = 7\n",
    "num_graphs = 13\n",
    "num_feats = 11\n",
    "\n",
    "key = random.PRNGKey(90)\n",
    "As = random.bernoulli(key, p=0.1, shape=(num_graphs, num_nodes, num_nodes))\n",
    "Fs = random.normal(key, shape=(num_graphs, num_nodes, num_feats))"
   ]
  },
  {
   "cell_type": "markdown",
   "metadata": {},
   "source": [
    "The naive implementation should look something like this:"
   ]
  },
  {
   "cell_type": "code",
   "execution_count": null,
   "metadata": {},
   "outputs": [],
   "source": [
    "def naive_mp(As, Fs):\n",
    "    res = []\n",
    "    for a, f in zip(As, Fs):\n",
    "        res.append(np.dot(a, f))\n",
    "    return np.stack(res)"
   ]
  },
  {
   "cell_type": "code",
   "execution_count": null,
   "metadata": {},
   "outputs": [],
   "source": [
    "# Your answer here.\n",
    "def vmapped_message_passing(As, Fs):\n",
    "    \"\"\"Your answer here!\"\"\"\n",
    "    result = vmap(mp)(As, Fs)\n",
    "    return result"
   ]
  },
  {
   "cell_type": "markdown",
   "metadata": {},
   "source": [
    "Verify that your answer is correct."
   ]
  },
  {
   "cell_type": "code",
   "execution_count": null,
   "metadata": {},
   "outputs": [],
   "source": [
    "result = vmapped_message_passing(As, Fs)\n",
    "assert result.shape == naive_mp(As, Fs).shape\n",
    "assert not np.allclose(result, Fs)"
   ]
  },
  {
   "cell_type": "markdown",
   "metadata": {},
   "source": [
    "### Exercise: Chained `vmap`s\n",
    "\n",
    "We're going to try our hand at constructing a slightly more complex program.\n",
    "This program takes in one dataset of three dimensions,\n",
    "`(n_datasets, n_rows, n_columns)`.\n",
    "The program first calculates\n",
    "the cumulative product across each row in a dataset,\n",
    "then sums them up (collapsing the columns) across each dataset,\n",
    "and finally applies this same operation across all datasets stacked together.\n",
    "This one is a bit more challenging!\n",
    "\n",
    "To help you along here, the shape of the data are such:\n",
    "\n",
    "- There are 11 stacks of data.\n",
    "- Each stack of data has 31 rows, and 7 columns.\n",
    "\n",
    "The result of this program still should have 11 stacks and 31 rows,\n",
    "but now each column is not the original data,\n",
    "but the cumulative product of the previous columns.\n",
    "\n",
    "To get this answer right,\n",
    "no magic numbers are allows (e.g. for accessing particular axes).\n",
    "At least two `vmap`s are necessary here."
   ]
  },
  {
   "cell_type": "code",
   "execution_count": null,
   "metadata": {},
   "outputs": [],
   "source": [
    "from dl_workshop.jax_idioms import loopless_loops_ex2\n",
    "\n",
    "data = random.normal(key, shape=(11, 31, 7))\n",
    "\n",
    "\n",
    "def ex2_numpy_equivalent(data):\n",
    "    result = []\n",
    "    for d in data:\n",
    "        cp = np.cumprod(d, axis=-1)\n",
    "        s = np.sum(cp, axis=1)\n",
    "        result.append(s)\n",
    "    return np.stack(result)\n",
    "\n",
    "\n",
    "def loopless_loops_ex2(data):\n",
    "    \"\"\"Your solution here!\"\"\"\n",
    "    pass\n",
    "\n",
    "\n",
    "# Comment out the import if you want to test your answer.\n",
    "from dl_workshop.jax_idioms import loopless_loops_ex2\n",
    "\n",
    "assert loopless_loops_ex2(data).shape == ex2_numpy_equivalent(data).shape"
   ]
  },
  {
   "cell_type": "markdown",
   "metadata": {},
   "source": [
    "### Exercise: Double for-loops\n",
    "\n",
    "This one is a favourite of mine,\n",
    "and took me an afternoon of on-and-off thinking to reason about clearly.\n",
    "Graphs, a.k.a. networks, are comprised of nodes and edges,\n",
    "and nodes can be represented by a vector of information (i.e. node features).\n",
    "Stacking all the nodes' vectors together\n",
    "gives us a _node feature matrix_.\n",
    "In graph attention networks, one step is needed where we pairwise concatenate\n",
    "every node to every other node together.\n",
    "For example, if every node had a length `n_features` feature vector,\n",
    "then concatenating two nodes' vectors together\n",
    "should give us a length `2 * n_features` vector.\n",
    "Doing this pairwise across all nodes in a graph\n",
    "would give us an `(n_nodes, n_nodes, 2 * n_features)` tensor.\n",
    "\n",
    "Your challenge below is to write the vmapped version of the following:"
   ]
  },
  {
   "cell_type": "code",
   "execution_count": null,
   "metadata": {
    "tags": []
   },
   "outputs": [],
   "source": [
    "num_nodes = 13\n",
    "num_feats = 17\n",
    "node_feats = random.normal(key, shape=(13, 17))\n",
    "\n",
    "\n",
    "def ex3_numpy_equivalent(node_feats):\n",
    "    result = []\n",
    "    for node1 in node_feats:\n",
    "        node1_concats = []\n",
    "        for node2 in node_feats:\n",
    "            cc = np.concatenate([node1, node2])\n",
    "            node1_concats.append(cc)\n",
    "        result.append(np.stack(node1_concats))\n",
    "\n",
    "    return np.stack(result)\n",
    "\n",
    "\n",
    "def loopless_loops_ex3(node_feats):\n",
    "    \"\"\"Your solution here!\"\"\"\n",
    "    pass\n",
    "\n",
    "\n",
    "# Comment out the import if you want to test your answer.\n",
    "from dl_workshop.jax_idioms import loopless_loops_ex3\n",
    "\n",
    "assert (\n",
    "    loopless_loops_ex3(node_feats).shape\n",
    "    == ex3_numpy_equivalent(node_feats).shape\n",
    ")"
   ]
  },
  {
   "cell_type": "markdown",
   "metadata": {},
   "source": [
    "## Summary\n",
    "\n",
    "To recap, the semantics of `vmap` basically follow this logic: \n",
    "Take an elementary computation and repeat it across the leading axis of an array. \n",
    "The elementary computation shouldn't know anything about the leading axis.\n",
    "You can then create the `vmap`-ed function that knows about the leading axis\n",
    "by passing the function through `vmap` and getting back another function."
   ]
  }
 ],
 "metadata": {
  "kernelspec": {
   "display_name": "dl-workshop",
   "language": "python",
   "name": "dl-workshop"
  },
  "language_info": {
   "codemirror_mode": {
    "name": "ipython",
    "version": 3
   },
   "file_extension": ".py",
   "mimetype": "text/x-python",
   "name": "python",
   "nbconvert_exporter": "python",
   "pygments_lexer": "ipython3",
   "version": "3.9.2"
  }
 },
 "nbformat": 4,
 "nbformat_minor": 4
}
