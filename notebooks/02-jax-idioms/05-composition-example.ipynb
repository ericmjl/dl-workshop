{
 "cells": [
  {
   "cell_type": "code",
   "execution_count": null,
   "metadata": {},
   "outputs": [],
   "source": [
    "%load_ext autoreload\n",
    "%autoreload 2\n",
    "%matplotlib inline\n",
    "%config InlineBackend.figure_format = 'retina'"
   ]
  },
  {
   "cell_type": "markdown",
   "metadata": {},
   "source": [
    "# What do we gain doing with compositionality?\n",
    "\n",
    "To help us get a handle over what kind of gains we get, I'm going to do a comparison between composed `lax.scan` and `vmaps` against a program that we might write in pure Python versus our compiled version."
   ]
  },
  {
   "cell_type": "markdown",
   "metadata": {},
   "source": [
    "## Writing a Gaussian random walk in pure Python\n",
    "\n",
    "Let's start with a pure Python implementation of a Gaussian random walk, leveraging vanilla NumPy's random module for API convenience only (and not for performance)."
   ]
  },
  {
   "cell_type": "code",
   "execution_count": null,
   "metadata": {},
   "outputs": [],
   "source": [
    "import numpy as onp\n",
    "def gaussian_random_walk_python(num_realizations, num_timesteps):\n",
    "    rws = []\n",
    "    for i in range(num_realizations):\n",
    "        rw = []\n",
    "        prev_draw = 0\n",
    "        for t in range(num_timesteps):\n",
    "            prev_draw = onp.random.normal(loc=prev_draw)\n",
    "            rw.append(prev_draw)\n",
    "        rws.append(rw)\n",
    "    return rws"
   ]
  },
  {
   "cell_type": "code",
   "execution_count": null,
   "metadata": {},
   "outputs": [],
   "source": [
    "from time import time\n",
    "\n",
    "\n",
    "N_REALIZATIONS = 500\n",
    "N_TIMESTEPS = 10_000\n",
    "start = time()\n",
    "trajectories_python = gaussian_random_walk_python(N_REALIZATIONS, N_TIMESTEPS)\n",
    "end = time()\n",
    "print(f\"{end - start:.2f} seconds\")"
   ]
  },
  {
   "cell_type": "code",
   "execution_count": null,
   "metadata": {},
   "outputs": [],
   "source": [
    "import matplotlib.pyplot as plt\n",
    "import seaborn as sns\n",
    "\n",
    "for trajectory in trajectories_python[:20]:\n",
    "    plt.plot(trajectory)\n",
    "sns.despine()"
   ]
  },
  {
   "cell_type": "markdown",
   "metadata": {},
   "source": [
    "## Comparison against our JAX program\n",
    "\n",
    "Let's now compare the program against the version we wrote above."
   ]
  },
  {
   "cell_type": "code",
   "execution_count": null,
   "metadata": {},
   "outputs": [],
   "source": [
    "from dl_workshop.jax_idioms import make_gaussian_random_walk_func\n",
    "from jax import vmap\n",
    "def gaussian_random_walk_jax(num_realizations, num_timesteps):\n",
    "    keys = random.split(key, num_realizations)\n",
    "    grw_k_steps = make_gaussian_random_walk_func(num_timesteps)\n",
    "    final, trajectories = vmap(grw_k_steps)(keys)\n",
    "    return final, trajectories"
   ]
  },
  {
   "cell_type": "code",
   "execution_count": null,
   "metadata": {},
   "outputs": [],
   "source": [
    "from jax import random\n",
    "key = random.PRNGKey(42)\n",
    "start = time()\n",
    "final_jax, trajectories_jax = gaussian_random_walk_jax(N_REALIZATIONS, N_TIMESTEPS)\n",
    "trajectories_jax.block_until_ready()\n",
    "end = time()\n",
    "print(f\"{end - start:.2f} seconds\")"
   ]
  },
  {
   "cell_type": "code",
   "execution_count": null,
   "metadata": {},
   "outputs": [],
   "source": [
    "for trajectory in trajectories_jax[:20]:\n",
    "    plt.plot(trajectory)\n",
    "sns.despine()"
   ]
  },
  {
   "cell_type": "markdown",
   "metadata": {},
   "source": [
    "### Compare against a JIT-compiled version of our JAX program\n",
    "\n",
    "Now we're going to JIT-compile our Gaussian Random Walk function and see how long it takes for the program to run."
   ]
  },
  {
   "cell_type": "code",
   "execution_count": null,
   "metadata": {},
   "outputs": [],
   "source": [
    "from jax import jit\n",
    "\n",
    "def gaussian_random_walk_jit(num_realizations, num_timesteps):\n",
    "    keys = random.split(key, num_realizations)\n",
    "    grw_k_steps = make_gaussian_random_walk_func(num_timesteps)\n",
    "    grw_k_steps = jit(grw_k_steps)\n",
    "    final, trajectories = vmap(grw_k_steps)(keys)\n",
    "    return final, trajectories"
   ]
  },
  {
   "cell_type": "code",
   "execution_count": null,
   "metadata": {},
   "outputs": [],
   "source": [
    "start = time()\n",
    "final_jit, trajectories_jit = gaussian_random_walk_jit(N_REALIZATIONS, N_TIMESTEPS)\n",
    "trajectories_jit.block_until_ready()\n",
    "end = time()\n",
    "print(f\"{end - start:.2f} seconds\")"
   ]
  },
  {
   "cell_type": "code",
   "execution_count": null,
   "metadata": {},
   "outputs": [],
   "source": [
    "for trajectory in trajectories_jit[:20]:\n",
    "    plt.plot(trajectory)\n",
    "sns.despine()"
   ]
  },
  {
   "cell_type": "markdown",
   "metadata": {},
   "source": [
    "JIT-compilation gave us about a 1-2X speedup over non-JIT compiled code, and was about 20X faster than the pure Python version. That shouldn't surprise you one bit :)."
   ]
  },
  {
   "cell_type": "markdown",
   "metadata": {},
   "source": [
    "## A few pointers on syntax\n",
    "\n",
    "Firstly, if we subscribe to the Zen of Python's notion that \"flat is better than nested\", then following the idioms listed here -- closures/partials, `vmap` and `lax.scan`, then we'll likely only ever go one closure deep into our programs. Notice how we basically never wrote any for-loops in our array code; they were handled elegantly by the looping constructs `vmap` and `lax.scan`. \n",
    "\n",
    "Secondly, using `jit`, we get further optimizations on our code for free. A pre-requisite of `jit` is that the _every_ function call made in the program function being `jit`-ed is required to be written in a \"pure functional\" style, i.e. there are no side effects, no mutation of global state. If you write a program using the idioms used here (closures to wrap state, `vmap`/`lax.scan` in lieu of loops, explicit random number generation using PRNGKeys), then you will be able to JIT compile the program with ease."
   ]
  }
 ],
 "metadata": {
  "kernelspec": {
   "display_name": "dl-workshop",
   "language": "python",
   "name": "dl-workshop"
  },
  "language_info": {
   "codemirror_mode": {
    "name": "ipython",
    "version": 3
   },
   "file_extension": ".py",
   "mimetype": "text/x-python",
   "name": "python",
   "nbconvert_exporter": "python",
   "pygments_lexer": "ipython3",
   "version": "3.7.9"
  }
 },
 "nbformat": 4,
 "nbformat_minor": 4
}
